{
 "cells": [
  {
   "cell_type": "markdown",
   "metadata": {},
   "source": [
    "# Visualize weather data from https://www.earthsystemgrid.org/dataset/isabeldata.html"
   ]
  },
  {
   "cell_type": "code",
   "execution_count": null,
   "metadata": {},
   "outputs": [],
   "source": [
    "import gzip\n",
    "import numpy as np\n",
    "import matplotlib.pyplot as plt\n",
    "from matplotlib import animation, rc\n",
    "from itkwidgets import view,line_profile"
   ]
  },
  {
   "cell_type": "markdown",
   "metadata": {},
   "source": [
    "# Details about file format are here:\n",
    "\n",
    "https://www.earthsystemgrid.org/dataset/isabeldata/file/readme.html\n",
    "\n",
    "http://vis.computer.org/vis2004contest/data.html\n",
    "\n",
    "Data Format\n",
    "\n",
    "A summary of the data can be found below:\n",
    "\n",
    "    Dimensions: 500 x 500 x 100\n",
    "    Physical Scale: 2139km (east-west) x 2004km (north-south) x 19.8km (vertical) Note: The east-west distance of 2139km is measured at the southern latitude; the distance is only 1741km at the northern latitude due to the curvature of the earth.\n",
    "    Physical Location: Longitude (x): 83W to 62W; Latitude (y): 23.7N to 41.7N; Height (z): 0.035km to 19.835km\n",
    "    Format: Brick-of-Floats"
   ]
  },
  {
   "cell_type": "code",
   "execution_count": null,
   "metadata": {},
   "outputs": [],
   "source": [
    "dims = [500,500,100] # original dimensions of binary data in disk file\n",
    "\n",
    "def load_slice(frame_number, K):\n",
    "  assert frame_number >= 1 and frame_number <= 48\n",
    "  fname_gzipped = format('/scratch/snx3000/jfavre/Isabel/QVAPORf%02d.bin.gz' % frame_number)\n",
    "  print(\"opening \", fname_gzipped)\n",
    "  with gzip.open(fname_gzipped,'rb') as f:\n",
    "    # to read a single slice in the Z direction, we slice the array in the Z direction\n",
    "    data = np.frombuffer(f.read(), dtype='>f4')[dims[0]*dims[1]*K:dims[0]*dims[1]*(K+1)]\n",
    "    # Land values, where there is no valid atmospheric data, are marked 1.0e35\n",
    "    data = np.where(data!=1e35, data,np.NaN)\n",
    "    data = data.reshape(dims[0:2])\n",
    "    data = np.fliplr(np.rot90(data,-1))\n",
    "  return data\n",
    "\n",
    "def load_volume(frame_number):\n",
    "  assert frame_number >= 1 and frame_number <= 48\n",
    "  fname_gzipped = format('/scratch/snx3000/jfavre/Isabel/QVAPORf%02d.bin.gz' % frame_number)\n",
    "  print(\"opening \", fname_gzipped)\n",
    "  with gzip.open(fname_gzipped,'rb') as f:\n",
    "    data = np.frombuffer(f.read(), dtype='>f4')\n",
    "    # Land values, where there is no valid atmospheric data, are marked 1.0e35\n",
    "    data = np.where(data!=1e35, data,np.NaN)\n",
    "  return data.reshape(np.flip(dims))"
   ]
  },
  {
   "cell_type": "code",
   "execution_count": null,
   "metadata": {},
   "outputs": [],
   "source": [
    "fig = plt.figure(figsize=(6,6))\n",
    "\n",
    "dataS = load_slice(48, 50) # last timestep and Z=50 slice\n",
    "image = plt.imshow(dataS, extent=[83, 62,23.7, 41.7], cmap=plt.get_cmap(\"PuBuGn\"))"
   ]
  },
  {
   "cell_type": "code",
   "execution_count": null,
   "metadata": {},
   "outputs": [],
   "source": [
    "def animate(i):\n",
    "    image.set_data(load_slice(i, 50))\n",
    "    return (image,)\n",
    "\n",
    "anim = animation.FuncAnimation(fig, animate, frames=[i for i in range(1,49)], blit=True)\n",
    "# creating an interactive JavaScript animation widget \n",
    "rc('animation', html='jshtml')\n",
    "anim"
   ]
  },
  {
   "cell_type": "markdown",
   "metadata": {},
   "source": [
    "# Demonstrating the itkwidget view, and line_profile"
   ]
  },
  {
   "cell_type": "code",
   "execution_count": null,
   "metadata": {},
   "outputs": [],
   "source": [
    "view(image=dataS, cmap=\"Muted Blue-Green\",vmin=np.nanmin(dataS), vmax=np.nanmax(dataS))"
   ]
  },
  {
   "cell_type": "code",
   "execution_count": null,
   "metadata": {},
   "outputs": [],
   "source": [
    "line_profile(image=dataS, cmap=\"Muted Blue-Green\",plotter='ipympl')"
   ]
  }
 ],
 "metadata": {
  "kernelspec": {
   "display_name": "Python 3",
   "language": "python",
   "name": "python3"
  },
  "language_info": {
   "codemirror_mode": {
    "name": "ipython",
    "version": 3
   },
   "file_extension": ".py",
   "mimetype": "text/x-python",
   "name": "python",
   "nbconvert_exporter": "python",
   "pygments_lexer": "ipython3",
   "version": "3.8.2"
  }
 },
 "nbformat": 4,
 "nbformat_minor": 4
}
