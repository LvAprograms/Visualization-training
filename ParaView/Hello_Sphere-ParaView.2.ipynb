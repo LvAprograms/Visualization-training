{
 "cells": [
  {
   "cell_type": "markdown",
   "metadata": {},
   "source": [
    "# ParaView Hello Sphere Test 2\n",
    "This notebook creates a synthetic data source (a sphere), and creates a polygonal display of it.\n",
    "We demonstrate how to connect to an external parallel ParaView server"
   ]
  },
  {
   "cell_type": "code",
   "execution_count": null,
   "metadata": {},
   "outputs": [],
   "source": [
    "from paraview.simple import *\n",
    "from paraview.modules.vtkRemotingCore import vtkProcessModule"
   ]
  },
  {
   "cell_type": "markdown",
   "metadata": {},
   "source": [
    "After putting the client in waiting mode with the next call, we launch an external mpi job\n",
    "The Paraview server connects by default on port=11111.\n",
    "At CSCS, we use the userid, which is unique for all users."
   ]
  },
  {
   "cell_type": "code",
   "execution_count": null,
   "metadata": {},
   "outputs": [],
   "source": [
    "userid=1100"
   ]
  },
  {
   "cell_type": "markdown",
   "metadata": {},
   "source": [
    "if running locally on my desktop:\n",
    "mpiexec -n 3 /local/apps/ParaView/5.8-egl/bin/pvserver -rc -ch=localhost -sp=1100\n",
    "\n",
    "if running on Piz Daint:\n",
    "\n",
    "ssh -l jfavre -R 1100:localhost:1100 daint101.cscs.ch\n",
    "\n",
    "module load daint-gpu ParaView;\n",
    "srun -p debug -t 00:05:00 -n 12 -N 1 -C gpu --cpu_bind=sockets pvserver -rc -ch=daint101.cscs.ch -sp=1100"
   ]
  },
  {
   "cell_type": "code",
   "execution_count": null,
   "metadata": {},
   "outputs": [],
   "source": [
    "ReverseConnect(str(userid))"
   ]
  },
  {
   "cell_type": "code",
   "execution_count": null,
   "metadata": {},
   "outputs": [],
   "source": [
    "rank = vtkProcessModule.GetProcessModule().GetPartitionId()\n",
    "nbprocs = servermanager.ActiveConnection.GetNumberOfDataPartitions()\n",
    "info = GetOpenGLInformation(location=servermanager.vtkSMSession.RENDER_SERVER)"
   ]
  },
  {
   "cell_type": "code",
   "execution_count": null,
   "metadata": {},
   "outputs": [],
   "source": [
    "Version = str(GetParaViewVersion())\n",
    "if rank == 0:\n",
    "    print(\"ParaView Version \", Version)\n",
    "    print(\"rank=\", rank, \"/\", nbprocs)\n",
    "    print(\"Vendor:   %s\" % info.GetVendor())\n",
    "    print(\"Version:  %s\" % info.GetVersion())\n",
    "    print(\"Renderer: %s\" % info.GetRenderer())"
   ]
  },
  {
   "cell_type": "code",
   "execution_count": null,
   "metadata": {},
   "outputs": [],
   "source": [
    "sphere = Sphere(ThetaResolution=32, PhiResolution=32)\n",
    "pidscal = ProcessIdScalars(sphere)\n",
    "\n",
    "rep = Show(pidscal, GetActiveView())\n",
    "ColorBy(rep, 'ProcessId')\n",
    "processIdLUT = GetColorTransferFunction('ProcessId')\n",
    "processIdLUT.AnnotationsInitialized = 1\n",
    "processIdLUT.InterpretValuesAsCategories = 1\n",
    "\n",
    "IndexedColors = [\n",
    "    1.0, 1.0, 1.0,\n",
    "    1.0, 0.0, 0.0,\n",
    "    0.0, 1.0, 0.0,\n",
    "    0.0, 0.0, 1.0,\n",
    "    1.0, 1.0, 0.0,\n",
    "    1.0, 0.0, 1.0,\n",
    "    0.0, 1.0, 1.0,\n",
    "    0.63, 0.63, 1.0,\n",
    "    0.67, 0.5, 0.33,\n",
    "    1.0, 0.5, 0.75,\n",
    "    0.53, 0.35, 0.7,\n",
    "    1.0, 0.75, 0.5]\n",
    "\n",
    "a = []\n",
    "for i in range(nbprocs):\n",
    "    a.extend((str(i), str(i)))\n",
    "\n",
    "processIdLUT.Annotations = a\n",
    "processIdLUT.IndexedColors = IndexedColors\n",
    "rep.Representation = \"Surface With Edges\""
   ]
  },
  {
   "cell_type": "code",
   "execution_count": null,
   "metadata": {},
   "outputs": [],
   "source": [
    "from ipyparaview.widgets import PVDisplay\n",
    "disp = PVDisplay(GetActiveView())\n",
    "w = display(disp)"
   ]
  },
  {
   "cell_type": "code",
   "execution_count": null,
   "metadata": {},
   "outputs": [],
   "source": [
    "# Interact from ipywidgets gives us a simple way to interactively control values\n",
    "# with a callback function\n",
    "from ipywidgets import interact, IntSlider\n",
    "\n",
    "# set the Theta and Phi resolution and trigger a pipeline update\n",
    "def Sphere_resolution(res):\n",
    "    sphere.ThetaResolution = sphere.PhiResolution = res\n",
    "    sphere.UpdatePipeline()\n",
    "    \n",
    "i = interact(Sphere_resolution, res=IntSlider(min=3, max=48, step=1, value=12))"
   ]
  },
  {
   "cell_type": "code",
   "execution_count": null,
   "metadata": {},
   "outputs": [],
   "source": [
    "def SaveImage(filename):\n",
    "  from vtk import vtkPNGWriter\n",
    "  img_writer = vtkPNGWriter()\n",
    "  img_writer.SetInputConnection(disp.w2i.GetOutputPort())\n",
    "  img_writer.SetFileName(filename)\n",
    "  img_writer.Write()\n",
    "\n",
    "# save animage on the client-side\n",
    "SaveImage(\"/home/jfavre/foo2.png\")"
   ]
  },
  {
   "cell_type": "markdown",
   "metadata": {},
   "source": [
    "We can cleanly close the connection with the following command"
   ]
  },
  {
   "cell_type": "code",
   "execution_count": null,
   "metadata": {},
   "outputs": [],
   "source": [
    "Disconnect()"
   ]
  }
 ],
 "metadata": {
  "kernelspec": {
   "display_name": "Python 3",
   "language": "python",
   "name": "python3"
  },
  "language_info": {
   "codemirror_mode": {
    "name": "ipython",
    "version": 3
   },
   "file_extension": ".py",
   "mimetype": "text/x-python",
   "name": "python",
   "nbconvert_exporter": "python",
   "pygments_lexer": "ipython3",
   "version": "3.8.2"
  }
 },
 "nbformat": 4,
 "nbformat_minor": 4
}
